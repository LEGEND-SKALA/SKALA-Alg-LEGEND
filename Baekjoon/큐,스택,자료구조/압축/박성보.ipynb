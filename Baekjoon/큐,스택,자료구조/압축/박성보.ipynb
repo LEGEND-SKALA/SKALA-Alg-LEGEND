{
 "cells": [
  {
   "cell_type": "code",
   "execution_count": null,
   "metadata": {
    "vscode": {
     "languageId": "plaintext"
    }
   },
   "outputs": [],
   "source": [
    "### 문제 정보 ###\n",
    "# 문제 번호: 1662\n",
    "# 문제 이름: 압축\n",
    "# 문제 링크: https://www.acmicpc.net/problem/1662\n",
    "\n",
    "### 문제 풀이 ###\n",
    "# 1. 열린 괄호(\"(\")를 통해 문자열 분리 및 닫힌 괄호(\")\") 제거\n",
    "# 2. 리스트에 숫자 값 저장 후, 연산\n",
    "# 3. 연산 결과를 앞 리스트 값에 저장\n",
    "# 4. 가장 첫 번째 결과의 길이 반환\n",
    "# → '9(9(9(9(9(9(9(9(9(9(9(9(9(9(9(111)))))))))))))))'를 입력하면 리스트 내 분리되는 원소가 많아져 메모리 초과 발생\n",
    "\n",
    "s = str(input())\n",
    "\n",
    "s = s.replace(\")\", \"\")\n",
    "s_list = s.split(\"(\")\n",
    "print(s_list)\n",
    "\n",
    "result = \"\"\n",
    "i = len(s_list) - 2\n",
    "while True:\n",
    "    \n",
    "    if i < 0:\n",
    "        break\n",
    "    \n",
    "    s_list[i] = s_list[i][:-1] + str(int(s_list[i][-1]) * s_list[i+1])\n",
    "\n",
    "    i -= 1\n",
    "    \n",
    "print(s_list)\n",
    "    \n",
    "print(len(s_list[0]))"
   ]
  }
 ],
 "metadata": {
  "language_info": {
   "name": "python"
  }
 },
 "nbformat": 4,
 "nbformat_minor": 2
}
