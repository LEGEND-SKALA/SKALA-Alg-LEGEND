{
 "cells": [
  {
   "cell_type": "code",
   "execution_count": null,
   "metadata": {
    "vscode": {
     "languageId": "plaintext"
    }
   },
   "outputs": [],
   "source": [
    "### 문제 정보 ###\n",
    "# 문제 번호: 15903\n",
    "# 문제 이름: 카드 합체 놀이\n",
    "# 문제 링크: https://www.acmicpc.net/problem/15903\n",
    "\n",
    "### 문제 풀이 ###\n",
    "\n",
    "\n",
    "n, m = map(int, input().split(\" \"))\n",
    "cards = list(map(int, input().split(\" \")))\n",
    "\n",
    "count = 0\n",
    "while count < m:\n",
    "    \n",
    "    tmp = cards.copy()\n",
    "    \n",
    "    x_min = min(tmp)\n",
    "    tmp.remove(x_min)\n",
    "    y_min = min(tmp)\n",
    "    tmp.remove(y_min)\n",
    "    \n",
    "    tmp.append(x_min + y_min)\n",
    "    tmp.append(x_min + y_min)\n",
    "    \n",
    "    cards = tmp.copy()\n",
    "    \n",
    "    count += 1\n",
    "    \n",
    "\n",
    "print(sum(cards))"
   ]
  },
  {
   "cell_type": "code",
   "execution_count": null,
   "metadata": {
    "vscode": {
     "languageId": "plaintext"
    }
   },
   "outputs": [],
   "source": [
    "### 문제 정보 ###\n",
    "# 문제 번호: 15903\n",
    "# 문제 이름: 카드 합체 놀이\n",
    "# 문제 링크: https://www.acmicpc.net/problem/15903\n",
    "\n",
    "### 문제 풀이 ###\n",
    "# 1. cards 리스트 정렬\n",
    "# 2. 가장 작은 수와 그 다음으로 작은 수를 두 수의 합으로 변경\n",
    "# 3. m번 반복 후, cards 리스트의 합계 반환\n",
    "\n",
    "n, m = map(int, input().split(\" \"))\n",
    "cards = list(map(int, input().split(\" \")))\n",
    "\n",
    "count = 0\n",
    "while count < m:\n",
    "    \n",
    "    cards.sort()\n",
    "    \n",
    "    cards[0], cards[1] = cards[0] + cards[1], cards[0] + cards[1]\n",
    "\n",
    "    count += 1    \n",
    "\n",
    "print(sum(cards))"
   ]
  }
 ],
 "metadata": {
  "language_info": {
   "name": "python"
  }
 },
 "nbformat": 4,
 "nbformat_minor": 2
}
